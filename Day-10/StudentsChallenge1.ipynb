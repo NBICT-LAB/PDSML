{
 "cells": [
  {
   "cell_type": "markdown",
   "metadata": {
    "id": "VxykHUGqTpaK"
   },
   "source": [
    "Dear Learner,\n",
    "Try to create a Simple Linear Machine Learning Model on the dataset \"Challenge_Data.csv\". In our dataset YearsExperince is the independent variable and Salary is the dependent variable. Do not delete the two other columns while creating the machine learning model."
   ]
  },
  {
   "cell_type": "markdown",
   "metadata": {
    "id": "ug3DO5ayNqiQ"
   },
   "source": [
    "# Importing the necessary libraries"
   ]
  },
  {
   "cell_type": "code",
   "execution_count": 1,
   "metadata": {},
   "outputs": [],
   "source": [
    "import numpy as np\n",
    "import pandas as pd\n",
    "import matplotlib.pyplot as plt"
   ]
  },
  {
   "cell_type": "markdown",
   "metadata": {
    "id": "0jIKGi-JN3Yo"
   },
   "source": [
    "# Importing the dataset & creating the matrix of the feature & dependent variable vector"
   ]
  },
  {
   "cell_type": "code",
   "execution_count": 2,
   "metadata": {},
   "outputs": [],
   "source": [
    "mydata = pd.read_csv('Challenge_Data.csv')\n",
    "X = mydata.iloc[ : , 1 ].values\n",
    "Y = mydata.iloc[ : , 2].values"
   ]
  },
  {
   "cell_type": "markdown",
   "metadata": {
    "id": "IDqmFiOoPVBw"
   },
   "source": [
    "# Replacing the missing values from the matrix of the feature"
   ]
  },
  {
   "cell_type": "code",
   "execution_count": 3,
   "metadata": {},
   "outputs": [],
   "source": [
    "from sklearn.impute import SimpleImputer\n",
    "imputer_1 = SimpleImputer(missing_values = np.nan, strategy='mean')\n",
    "X = X.reshape(-1, 1)\n",
    "fitting = imputer_1.fit(X)\n",
    "transformed = fitting.transform(X)\n",
    "X = transformed"
   ]
  },
  {
   "cell_type": "markdown",
   "metadata": {
    "id": "moF5nE4LPuaY"
   },
   "source": [
    "# Replacing the missing values from the dependent vector"
   ]
  },
  {
   "cell_type": "code",
   "execution_count": 4,
   "metadata": {},
   "outputs": [],
   "source": [
    "imputer_2 = SimpleImputer(missing_values = np.nan, strategy='mean')\n",
    "Y = Y.reshape(-1, 1)\n",
    "fitting_2 = imputer_2.fit(Y)\n",
    "transformed_2 = fitting_2.transform(Y)\n",
    "Y = transformed_2"
   ]
  },
  {
   "cell_type": "markdown",
   "metadata": {
    "id": "EgwVCTTYP5VH"
   },
   "source": [
    "# Splitting data set into the training set and test set"
   ]
  },
  {
   "cell_type": "code",
   "execution_count": 5,
   "metadata": {},
   "outputs": [],
   "source": [
    "from sklearn.model_selection import train_test_split\n",
    "X_train, X_test, Y_train, Y_test = train_test_split(X, Y, test_size = 0.2, random_state = 0)"
   ]
  },
  {
   "cell_type": "markdown",
   "metadata": {
    "id": "CmpG662eQYW3"
   },
   "source": [
    "# Training the Simple Linear Regression Model on the Training set"
   ]
  },
  {
   "cell_type": "code",
   "execution_count": 6,
   "metadata": {},
   "outputs": [
    {
     "data": {
      "text/plain": [
       "LinearRegression()"
      ]
     },
     "execution_count": 6,
     "metadata": {},
     "output_type": "execute_result"
    }
   ],
   "source": [
    "from sklearn.linear_model import LinearRegression\n",
    "regressor = LinearRegression()\n",
    "regressor.fit(X_train, Y_train)"
   ]
  },
  {
   "cell_type": "markdown",
   "metadata": {
    "id": "ttpW6JxQQnW-"
   },
   "source": [
    "# Predicting the Test set & Training set results"
   ]
  },
  {
   "cell_type": "code",
   "execution_count": 7,
   "metadata": {},
   "outputs": [],
   "source": [
    "Y_pred = regressor.predict(X_test)\n",
    "X_pred = regressor.predict(X_train)"
   ]
  },
  {
   "cell_type": "markdown",
   "metadata": {
    "id": "eHcmvzELQ0w2"
   },
   "source": [
    "# Visualizing the Training set results"
   ]
  },
  {
   "cell_type": "code",
   "execution_count": 8,
   "metadata": {},
   "outputs": [
    {
     "data": {
      "image/png": "[encoded data removed]",
      "text/plain": [
       "<Figure size 432x288 with 1 Axes>"
      ]
     },
     "metadata": {
      "needs_background": "light"
     },
     "output_type": "display_data"
    }
   ],
   "source": [
    "plt.scatter(X_train, Y_train, color = 'red')\n",
    "plt.plot(X_train, X_pred, color = 'blue')\n",
    "plt.title('Salary VS Years of experience (for the Train set)')\n",
    "plt.xlabel('Years of experience')\n",
    "plt.ylabel('Salary')\n",
    "plt.show()"
   ]
  },
  {
   "cell_type": "markdown",
   "metadata": {
    "id": "a6ZRp-0tQ-Jf"
   },
   "source": [
    "# Visualizing the Test set results"
   ]
  },
  {
   "cell_type": "code",
   "execution_count": 9,
   "metadata": {},
   "outputs": [
    {
     "data": {
      "image/png": "[encoded data removed]",
      "text/plain": [
       "<Figure size 432x288 with 1 Axes>"
      ]
     },
     "metadata": {
      "needs_background": "light"
     },
     "output_type": "display_data"
    }
   ],
   "source": [
    "plt.scatter(X_test, Y_test, color = 'red')\n",
    "plt.plot(X_train, X_pred, color = 'blue')\n",
    "plt.title('Salary VS Years of experience (for the Train set)')\n",
    "plt.xlabel('Years of experience')\n",
    "plt.ylabel('Salary')\n",
    "plt.show()"
   ]
  },
  {
   "cell_type": "markdown",
   "metadata": {
    "id": "jd1mZpgXRKqO"
   },
   "source": [
    "# Making a single prediction"
   ]
  },
  {
   "cell_type": "code",
   "execution_count": 10,
   "metadata": {},
   "outputs": [
    {
     "name": "stdout",
     "output_type": "stream",
     "text": [
      "[[134888.57969367]]\n"
     ]
    }
   ],
   "source": [
    "print(regressor.predict([[12]]))"
   ]
  },
  {
   "cell_type": "markdown",
   "metadata": {
    "id": "Bl84SZYBRcW_"
   },
   "source": [
    "# Getting the values of the coefficients "
   ]
  },
  {
   "cell_type": "code",
   "execution_count": 11,
   "metadata": {},
   "outputs": [
    {
     "name": "stdout",
     "output_type": "stream",
     "text": [
      "[[8894.15588261]]\n",
      "[28158.7091023]\n"
     ]
    }
   ],
   "source": [
    "print(regressor.coef_) \n",
    "print(regressor.intercept_)"
   ]
  },
  {
   "cell_type": "markdown",
   "metadata": {
    "id": "jaceKEnF1LFL"
   },
   "source": [
    "# **The Simple Linear Regression Equation should be while the random state is 0**\n",
    "## Salary = 28158.7091023 + 8894.15588261 x ExperienceYears"
   ]
  }
 ],
 "metadata": {
  "colab": {
   "authorship_tag": "ABX9TyPmqNiVuRsaasaWQOBAW2oJ",
   "collapsed_sections": [],
   "name": "StudentsChallenge1.ipynb",
   "provenance": []
  },
  "kernelspec": {
   "display_name": "Python 3",
   "language": "python",
   "name": "python3"
  },
  "language_info": {
   "codemirror_mode": {
    "name": "ipython",
    "version": 3
   },
   "file_extension": ".py",
   "mimetype": "text/x-python",
   "name": "python",
   "nbconvert_exporter": "python",
   "pygments_lexer": "ipython3",
   "version": "3.8.8"
  }
 },
 "nbformat": 4,
 "nbformat_minor": 1
}
