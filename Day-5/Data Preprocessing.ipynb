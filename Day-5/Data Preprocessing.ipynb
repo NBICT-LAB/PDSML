{
 "cells": [
  {
   "cell_type": "code",
   "execution_count": 1,
   "id": "77554470",
   "metadata": {},
   "outputs": [],
   "source": [
    "import numpy as np\n",
    "import matplotlib.pyplot as plt\n",
    "import pandas as pd"
   ]
  },
  {
   "cell_type": "code",
   "execution_count": 2,
   "id": "6362b1b1",
   "metadata": {},
   "outputs": [],
   "source": [
    "dataset = pd.read_csv('mini_data.csv')"
   ]
  },
  {
   "cell_type": "code",
   "execution_count": 3,
   "id": "c1540f28",
   "metadata": {},
   "outputs": [
    {
     "name": "stdout",
     "output_type": "stream",
     "text": [
      "  Profession   Age   Salary Purchased\n",
      "0     Doctor  44.0  72000.0        No\n",
      "1     Lawyer  27.0  48000.0       Yes\n",
      "2     Banker  30.0  54000.0        No\n",
      "3     Lawyer  38.0  61000.0        No\n",
      "4     Banker  40.0      NaN       Yes\n",
      "5     Doctor  35.0  58000.0       Yes\n",
      "6     Lawyer   NaN  52000.0        No\n",
      "7     Doctor  48.0  79000.0       Yes\n",
      "8     Banker  50.0  83000.0        No\n",
      "9     Doctor  37.0  67000.0       Yes\n"
     ]
    }
   ],
   "source": [
    "print(dataset)"
   ]
  },
  {
   "cell_type": "code",
   "execution_count": 4,
   "id": "cb265427",
   "metadata": {},
   "outputs": [],
   "source": [
    "X = dataset.iloc[ : , 0:-1].values"
   ]
  },
  {
   "cell_type": "code",
   "execution_count": 5,
   "id": "ce1492b5",
   "metadata": {},
   "outputs": [
    {
     "name": "stdout",
     "output_type": "stream",
     "text": [
      "[['Doctor' 44.0 72000.0]\n",
      " ['Lawyer' 27.0 48000.0]\n",
      " ['Banker' 30.0 54000.0]\n",
      " ['Lawyer' 38.0 61000.0]\n",
      " ['Banker' 40.0 nan]\n",
      " ['Doctor' 35.0 58000.0]\n",
      " ['Lawyer' nan 52000.0]\n",
      " ['Doctor' 48.0 79000.0]\n",
      " ['Banker' 50.0 83000.0]\n",
      " ['Doctor' 37.0 67000.0]]\n"
     ]
    }
   ],
   "source": [
    "print(X)"
   ]
  },
  {
   "cell_type": "code",
   "execution_count": 6,
   "id": "d627d248",
   "metadata": {},
   "outputs": [],
   "source": [
    "Y = dataset.iloc[ : , 3].values"
   ]
  },
  {
   "cell_type": "code",
   "execution_count": 7,
   "id": "75528e2a",
   "metadata": {},
   "outputs": [
    {
     "name": "stdout",
     "output_type": "stream",
     "text": [
      "['No' 'Yes' 'No' 'No' 'Yes' 'Yes' 'No' 'Yes' 'No' 'Yes']\n"
     ]
    }
   ],
   "source": [
    "print(Y)"
   ]
  },
  {
   "cell_type": "code",
   "execution_count": 8,
   "id": "d8986733",
   "metadata": {},
   "outputs": [],
   "source": [
    "from sklearn.impute import SimpleImputer"
   ]
  },
  {
   "cell_type": "code",
   "execution_count": 9,
   "id": "d7cfd55f",
   "metadata": {},
   "outputs": [],
   "source": [
    "imputer = SimpleImputer(missing_values = np.nan, strategy = 'mean')"
   ]
  },
  {
   "cell_type": "code",
   "execution_count": 10,
   "id": "6ca7f639",
   "metadata": {},
   "outputs": [],
   "source": [
    "fitting = imputer.fit(X[ : , 1:])"
   ]
  },
  {
   "cell_type": "code",
   "execution_count": 11,
   "id": "08c4f332",
   "metadata": {},
   "outputs": [],
   "source": [
    "transformation = fitting.transform(X[ : , 1:])"
   ]
  },
  {
   "cell_type": "code",
   "execution_count": 12,
   "id": "41d7a741",
   "metadata": {},
   "outputs": [],
   "source": [
    "X[ : , 1: ] = transformation"
   ]
  },
  {
   "cell_type": "code",
   "execution_count": 13,
   "id": "92f2b984",
   "metadata": {},
   "outputs": [
    {
     "name": "stdout",
     "output_type": "stream",
     "text": [
      "[['Doctor' 44.0 72000.0]\n",
      " ['Lawyer' 27.0 48000.0]\n",
      " ['Banker' 30.0 54000.0]\n",
      " ['Lawyer' 38.0 61000.0]\n",
      " ['Banker' 40.0 63777.77777777778]\n",
      " ['Doctor' 35.0 58000.0]\n",
      " ['Lawyer' 38.77777777777778 52000.0]\n",
      " ['Doctor' 48.0 79000.0]\n",
      " ['Banker' 50.0 83000.0]\n",
      " ['Doctor' 37.0 67000.0]]\n"
     ]
    }
   ],
   "source": [
    "print(X)"
   ]
  },
  {
   "cell_type": "markdown",
   "id": "e9ac2e9d",
   "metadata": {},
   "source": [
    "# Encoding categorical variable"
   ]
  },
  {
   "cell_type": "markdown",
   "id": "3311d3a1",
   "metadata": {},
   "source": [
    "## Encoding independent variable"
   ]
  },
  {
   "cell_type": "code",
   "execution_count": 14,
   "id": "d365a487",
   "metadata": {},
   "outputs": [],
   "source": [
    "from sklearn.compose import ColumnTransformer"
   ]
  },
  {
   "cell_type": "code",
   "execution_count": 15,
   "id": "4fb3fdf7",
   "metadata": {},
   "outputs": [],
   "source": [
    "from sklearn.preprocessing import OneHotEncoder"
   ]
  },
  {
   "cell_type": "code",
   "execution_count": 16,
   "id": "bb1e65b8",
   "metadata": {},
   "outputs": [],
   "source": [
    "ct = ColumnTransformer(transformers = [('encoder', OneHotEncoder(), [0])], remainder = 'passthrough')"
   ]
  },
  {
   "cell_type": "code",
   "execution_count": 17,
   "id": "879fa3f7",
   "metadata": {},
   "outputs": [],
   "source": [
    "X = np.array(ct.fit_transform(X))"
   ]
  },
  {
   "cell_type": "code",
   "execution_count": 18,
   "id": "35da828f",
   "metadata": {
    "scrolled": true
   },
   "outputs": [
    {
     "name": "stdout",
     "output_type": "stream",
     "text": [
      "[[0.0 1.0 0.0 44.0 72000.0]\n",
      " [0.0 0.0 1.0 27.0 48000.0]\n",
      " [1.0 0.0 0.0 30.0 54000.0]\n",
      " [0.0 0.0 1.0 38.0 61000.0]\n",
      " [1.0 0.0 0.0 40.0 63777.77777777778]\n",
      " [0.0 1.0 0.0 35.0 58000.0]\n",
      " [0.0 0.0 1.0 38.77777777777778 52000.0]\n",
      " [0.0 1.0 0.0 48.0 79000.0]\n",
      " [1.0 0.0 0.0 50.0 83000.0]\n",
      " [0.0 1.0 0.0 37.0 67000.0]]\n"
     ]
    }
   ],
   "source": [
    "print(X)"
   ]
  },
  {
   "cell_type": "markdown",
   "id": "0ba9384c",
   "metadata": {},
   "source": [
    "## Encoding dependent variable"
   ]
  },
  {
   "cell_type": "code",
   "execution_count": 19,
   "id": "c1ab190a",
   "metadata": {},
   "outputs": [],
   "source": [
    "from sklearn.preprocessing import LabelEncoder"
   ]
  },
  {
   "cell_type": "code",
   "execution_count": 20,
   "id": "d53bf2a1",
   "metadata": {},
   "outputs": [],
   "source": [
    "le = LabelEncoder()"
   ]
  },
  {
   "cell_type": "code",
   "execution_count": 21,
   "id": "0050027d",
   "metadata": {},
   "outputs": [],
   "source": [
    "Y = le.fit_transform(Y)"
   ]
  },
  {
   "cell_type": "code",
   "execution_count": 22,
   "id": "b40e6831",
   "metadata": {},
   "outputs": [
    {
     "name": "stdout",
     "output_type": "stream",
     "text": [
      "[0 1 0 0 1 1 0 1 0 1]\n"
     ]
    }
   ],
   "source": [
    "print(Y)"
   ]
  },
  {
   "cell_type": "markdown",
   "id": "9783d25d",
   "metadata": {},
   "source": [
    "# Splitting the data set into training set and test set"
   ]
  },
  {
   "cell_type": "code",
   "execution_count": 23,
   "id": "ca7be84f",
   "metadata": {},
   "outputs": [],
   "source": [
    "from sklearn.model_selection import train_test_split"
   ]
  },
  {
   "cell_type": "code",
   "execution_count": 24,
   "id": "4ea05788",
   "metadata": {},
   "outputs": [],
   "source": [
    "X_train, X_test, Y_train, Y_test = train_test_split(X, Y, test_size=0.2, random_state=1)"
   ]
  },
  {
   "cell_type": "code",
   "execution_count": 25,
   "id": "3b73112e",
   "metadata": {},
   "outputs": [
    {
     "name": "stdout",
     "output_type": "stream",
     "text": [
      "[[0.0 0.0 1.0 38.77777777777778 52000.0]\n",
      " [1.0 0.0 0.0 40.0 63777.77777777778]\n",
      " [0.0 1.0 0.0 44.0 72000.0]\n",
      " [0.0 0.0 1.0 38.0 61000.0]\n",
      " [0.0 0.0 1.0 27.0 48000.0]\n",
      " [0.0 1.0 0.0 48.0 79000.0]\n",
      " [1.0 0.0 0.0 50.0 83000.0]\n",
      " [0.0 1.0 0.0 35.0 58000.0]]\n"
     ]
    }
   ],
   "source": [
    "print(X_train)"
   ]
  },
  {
   "cell_type": "code",
   "execution_count": 26,
   "id": "edbd2ebb",
   "metadata": {},
   "outputs": [
    {
     "name": "stdout",
     "output_type": "stream",
     "text": [
      "[[1.0 0.0 0.0 30.0 54000.0]\n",
      " [0.0 1.0 0.0 37.0 67000.0]]\n"
     ]
    }
   ],
   "source": [
    "print(X_test)"
   ]
  },
  {
   "cell_type": "code",
   "execution_count": 27,
   "id": "b795de85",
   "metadata": {},
   "outputs": [
    {
     "name": "stdout",
     "output_type": "stream",
     "text": [
      "[0 1 0 0 1 1 0 1]\n"
     ]
    }
   ],
   "source": [
    "print(Y_train)"
   ]
  },
  {
   "cell_type": "code",
   "execution_count": 28,
   "id": "48da32fd",
   "metadata": {},
   "outputs": [
    {
     "name": "stdout",
     "output_type": "stream",
     "text": [
      "[0 1]\n"
     ]
    }
   ],
   "source": [
    "print(Y_test)"
   ]
  },
  {
   "cell_type": "code",
   "execution_count": null,
   "id": "2fc230a5",
   "metadata": {},
   "outputs": [],
   "source": []
  }
 ],
 "metadata": {
  "kernelspec": {
   "display_name": "Python 3",
   "language": "python",
   "name": "python3"
  },
  "language_info": {
   "codemirror_mode": {
    "name": "ipython",
    "version": 3
   },
   "file_extension": ".py",
   "mimetype": "text/x-python",
   "name": "python",
   "nbconvert_exporter": "python",
   "pygments_lexer": "ipython3",
   "version": "3.8.8"
  }
 },
 "nbformat": 4,
 "nbformat_minor": 5
}
