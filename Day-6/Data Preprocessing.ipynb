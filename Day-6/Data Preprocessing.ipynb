{
 "cells": [
  {
   "cell_type": "code",
   "execution_count": 115,
   "id": "77554470",
   "metadata": {},
   "outputs": [],
   "source": [
    "import numpy as np\n",
    "import matplotlib.pyplot as plt\n",
    "import pandas as pd"
   ]
  },
  {
   "cell_type": "code",
   "execution_count": 116,
   "id": "6362b1b1",
   "metadata": {},
   "outputs": [],
   "source": [
    "dataset = pd.read_csv('mini_data.csv')"
   ]
  },
  {
   "cell_type": "code",
   "execution_count": 117,
   "id": "c1540f28",
   "metadata": {},
   "outputs": [
    {
     "name": "stdout",
     "output_type": "stream",
     "text": [
      "  Profession   Age   Salary Purchased\n",
      "0     Doctor  44.0  72000.0        No\n",
      "1     Lawyer  27.0  48000.0       Yes\n",
      "2     Banker  30.0  54000.0        No\n",
      "3     Lawyer  38.0  61000.0        No\n",
      "4     Banker  40.0      NaN       Yes\n",
      "5     Doctor  35.0  58000.0       Yes\n",
      "6     Lawyer   NaN  52000.0        No\n",
      "7     Doctor  48.0  79000.0       Yes\n",
      "8     Banker  50.0  83000.0        No\n",
      "9     Doctor  37.0  67000.0       Yes\n"
     ]
    }
   ],
   "source": [
    "print(dataset)"
   ]
  },
  {
   "cell_type": "code",
   "execution_count": 118,
   "id": "cb265427",
   "metadata": {},
   "outputs": [],
   "source": [
    "X = dataset.iloc[ : , 0:-1].values"
   ]
  },
  {
   "cell_type": "code",
   "execution_count": 119,
   "id": "ce1492b5",
   "metadata": {},
   "outputs": [
    {
     "name": "stdout",
     "output_type": "stream",
     "text": [
      "[['Doctor' 44.0 72000.0]\n",
      " ['Lawyer' 27.0 48000.0]\n",
      " ['Banker' 30.0 54000.0]\n",
      " ['Lawyer' 38.0 61000.0]\n",
      " ['Banker' 40.0 nan]\n",
      " ['Doctor' 35.0 58000.0]\n",
      " ['Lawyer' nan 52000.0]\n",
      " ['Doctor' 48.0 79000.0]\n",
      " ['Banker' 50.0 83000.0]\n",
      " ['Doctor' 37.0 67000.0]]\n"
     ]
    }
   ],
   "source": [
    "print(X)"
   ]
  },
  {
   "cell_type": "code",
   "execution_count": 120,
   "id": "d627d248",
   "metadata": {},
   "outputs": [],
   "source": [
    "Y = dataset.iloc[ : , 3].values"
   ]
  },
  {
   "cell_type": "code",
   "execution_count": 121,
   "id": "75528e2a",
   "metadata": {},
   "outputs": [
    {
     "name": "stdout",
     "output_type": "stream",
     "text": [
      "['No' 'Yes' 'No' 'No' 'Yes' 'Yes' 'No' 'Yes' 'No' 'Yes']\n"
     ]
    }
   ],
   "source": [
    "print(Y)"
   ]
  },
  {
   "cell_type": "code",
   "execution_count": 122,
   "id": "d8986733",
   "metadata": {},
   "outputs": [],
   "source": [
    "from sklearn.impute import SimpleImputer"
   ]
  },
  {
   "cell_type": "code",
   "execution_count": 123,
   "id": "d7cfd55f",
   "metadata": {},
   "outputs": [],
   "source": [
    "imputer = SimpleImputer(missing_values = np.nan, strategy = 'mean')"
   ]
  },
  {
   "cell_type": "code",
   "execution_count": 124,
   "id": "6ca7f639",
   "metadata": {},
   "outputs": [],
   "source": [
    "fitting = imputer.fit(X[ : , 1:])"
   ]
  },
  {
   "cell_type": "code",
   "execution_count": 125,
   "id": "08c4f332",
   "metadata": {},
   "outputs": [],
   "source": [
    "transformation = fitting.transform(X[ : , 1:])"
   ]
  },
  {
   "cell_type": "code",
   "execution_count": 126,
   "id": "41d7a741",
   "metadata": {},
   "outputs": [],
   "source": [
    "X[ : , 1: ] = transformation"
   ]
  },
  {
   "cell_type": "code",
   "execution_count": 127,
   "id": "92f2b984",
   "metadata": {},
   "outputs": [
    {
     "name": "stdout",
     "output_type": "stream",
     "text": [
      "[['Doctor' 44.0 72000.0]\n",
      " ['Lawyer' 27.0 48000.0]\n",
      " ['Banker' 30.0 54000.0]\n",
      " ['Lawyer' 38.0 61000.0]\n",
      " ['Banker' 40.0 63777.77777777778]\n",
      " ['Doctor' 35.0 58000.0]\n",
      " ['Lawyer' 38.77777777777778 52000.0]\n",
      " ['Doctor' 48.0 79000.0]\n",
      " ['Banker' 50.0 83000.0]\n",
      " ['Doctor' 37.0 67000.0]]\n"
     ]
    }
   ],
   "source": [
    "print(X)"
   ]
  },
  {
   "cell_type": "markdown",
   "id": "e9ac2e9d",
   "metadata": {},
   "source": [
    "# Encoding categorical variable"
   ]
  },
  {
   "cell_type": "markdown",
   "id": "3311d3a1",
   "metadata": {},
   "source": [
    "## Encoding independent variable"
   ]
  },
  {
   "cell_type": "code",
   "execution_count": 128,
   "id": "d365a487",
   "metadata": {},
   "outputs": [],
   "source": [
    "from sklearn.compose import ColumnTransformer"
   ]
  },
  {
   "cell_type": "code",
   "execution_count": 129,
   "id": "4fb3fdf7",
   "metadata": {},
   "outputs": [],
   "source": [
    "from sklearn.preprocessing import OneHotEncoder"
   ]
  },
  {
   "cell_type": "code",
   "execution_count": 130,
   "id": "bb1e65b8",
   "metadata": {},
   "outputs": [],
   "source": [
    "ct = ColumnTransformer(transformers = [('encoder', OneHotEncoder(), [0])], remainder = 'passthrough')"
   ]
  },
  {
   "cell_type": "code",
   "execution_count": 131,
   "id": "879fa3f7",
   "metadata": {},
   "outputs": [],
   "source": [
    "X = np.array(ct.fit_transform(X))"
   ]
  },
  {
   "cell_type": "code",
   "execution_count": 132,
   "id": "35da828f",
   "metadata": {
    "scrolled": true
   },
   "outputs": [
    {
     "name": "stdout",
     "output_type": "stream",
     "text": [
      "[[0.0 1.0 0.0 44.0 72000.0]\n",
      " [0.0 0.0 1.0 27.0 48000.0]\n",
      " [1.0 0.0 0.0 30.0 54000.0]\n",
      " [0.0 0.0 1.0 38.0 61000.0]\n",
      " [1.0 0.0 0.0 40.0 63777.77777777778]\n",
      " [0.0 1.0 0.0 35.0 58000.0]\n",
      " [0.0 0.0 1.0 38.77777777777778 52000.0]\n",
      " [0.0 1.0 0.0 48.0 79000.0]\n",
      " [1.0 0.0 0.0 50.0 83000.0]\n",
      " [0.0 1.0 0.0 37.0 67000.0]]\n"
     ]
    }
   ],
   "source": [
    "print(X)"
   ]
  },
  {
   "cell_type": "markdown",
   "id": "0ba9384c",
   "metadata": {},
   "source": [
    "## Encoding dependent variable"
   ]
  },
  {
   "cell_type": "code",
   "execution_count": 133,
   "id": "c1ab190a",
   "metadata": {},
   "outputs": [],
   "source": [
    "from sklearn.preprocessing import LabelEncoder"
   ]
  },
  {
   "cell_type": "code",
   "execution_count": 134,
   "id": "d53bf2a1",
   "metadata": {},
   "outputs": [],
   "source": [
    "le = LabelEncoder()"
   ]
  },
  {
   "cell_type": "code",
   "execution_count": 135,
   "id": "0050027d",
   "metadata": {},
   "outputs": [],
   "source": [
    "Y = le.fit_transform(Y)"
   ]
  },
  {
   "cell_type": "code",
   "execution_count": 136,
   "id": "b40e6831",
   "metadata": {},
   "outputs": [
    {
     "name": "stdout",
     "output_type": "stream",
     "text": [
      "[0 1 0 0 1 1 0 1 0 1]\n"
     ]
    }
   ],
   "source": [
    "print(Y)"
   ]
  },
  {
   "cell_type": "markdown",
   "id": "9783d25d",
   "metadata": {},
   "source": [
    "# Splitting the data set into training set and test set"
   ]
  },
  {
   "cell_type": "code",
   "execution_count": 137,
   "id": "ca7be84f",
   "metadata": {},
   "outputs": [],
   "source": [
    "from sklearn.model_selection import train_test_split"
   ]
  },
  {
   "cell_type": "code",
   "execution_count": 138,
   "id": "4ea05788",
   "metadata": {},
   "outputs": [],
   "source": [
    "X_train, X_test, Y_train, Y_test = train_test_split(X, Y, test_size=0.2, random_state=1)"
   ]
  },
  {
   "cell_type": "code",
   "execution_count": 139,
   "id": "3b73112e",
   "metadata": {},
   "outputs": [
    {
     "name": "stdout",
     "output_type": "stream",
     "text": [
      "[[0.0 0.0 1.0 38.77777777777778 52000.0]\n",
      " [1.0 0.0 0.0 40.0 63777.77777777778]\n",
      " [0.0 1.0 0.0 44.0 72000.0]\n",
      " [0.0 0.0 1.0 38.0 61000.0]\n",
      " [0.0 0.0 1.0 27.0 48000.0]\n",
      " [0.0 1.0 0.0 48.0 79000.0]\n",
      " [1.0 0.0 0.0 50.0 83000.0]\n",
      " [0.0 1.0 0.0 35.0 58000.0]]\n"
     ]
    }
   ],
   "source": [
    "print(X_train)"
   ]
  },
  {
   "cell_type": "code",
   "execution_count": 140,
   "id": "edbd2ebb",
   "metadata": {},
   "outputs": [
    {
     "name": "stdout",
     "output_type": "stream",
     "text": [
      "[[1.0 0.0 0.0 30.0 54000.0]\n",
      " [0.0 1.0 0.0 37.0 67000.0]]\n"
     ]
    }
   ],
   "source": [
    "print(X_test)"
   ]
  },
  {
   "cell_type": "code",
   "execution_count": 141,
   "id": "b795de85",
   "metadata": {},
   "outputs": [
    {
     "name": "stdout",
     "output_type": "stream",
     "text": [
      "[0 1 0 0 1 1 0 1]\n"
     ]
    }
   ],
   "source": [
    "print(Y_train)"
   ]
  },
  {
   "cell_type": "code",
   "execution_count": 142,
   "id": "48da32fd",
   "metadata": {},
   "outputs": [
    {
     "name": "stdout",
     "output_type": "stream",
     "text": [
      "[0 1]\n"
     ]
    }
   ],
   "source": [
    "print(Y_test)"
   ]
  },
  {
   "cell_type": "markdown",
   "id": "fd0c664a",
   "metadata": {},
   "source": [
    "# Feature Scaling"
   ]
  },
  {
   "cell_type": "code",
   "execution_count": 143,
   "id": "4b569083",
   "metadata": {},
   "outputs": [],
   "source": [
    "from sklearn.preprocessing import StandardScaler"
   ]
  },
  {
   "cell_type": "code",
   "execution_count": 144,
   "id": "f2c88a51",
   "metadata": {},
   "outputs": [],
   "source": [
    "sc = StandardScaler()"
   ]
  },
  {
   "cell_type": "code",
   "execution_count": 145,
   "id": "befe3dcf",
   "metadata": {},
   "outputs": [],
   "source": [
    "X_train[ : , 3: ] = sc.fit_transform(X_train[ : , 3: ])"
   ]
  },
  {
   "cell_type": "code",
   "execution_count": 146,
   "id": "de439468",
   "metadata": {},
   "outputs": [
    {
     "name": "stdout",
     "output_type": "stream",
     "text": [
      "[[0.0 0.0 1.0 -0.19159184384578545 -1.0781259408412425]\n",
      " [1.0 0.0 0.0 -0.014117293757057777 -0.07013167641635372]\n",
      " [0.0 1.0 0.0 0.566708506533324 0.633562432710455]\n",
      " [0.0 0.0 1.0 -0.30453019390224867 -0.30786617274297867]\n",
      " [0.0 0.0 1.0 -1.9018011447007988 -1.420463615551582]\n",
      " [0.0 1.0 0.0 1.1475343068237058 1.232653363453549]\n",
      " [1.0 0.0 0.0 1.4379472069688968 1.5749910381638885]\n",
      " [0.0 1.0 0.0 -0.7401495441200351 -0.5646194287757332]]\n"
     ]
    }
   ],
   "source": [
    "print(X_train)"
   ]
  },
  {
   "cell_type": "code",
   "execution_count": 147,
   "id": "56f8ace2",
   "metadata": {},
   "outputs": [],
   "source": [
    "#MeanX_train = np.mean(X_train[ : , 3 ])"
   ]
  },
  {
   "cell_type": "code",
   "execution_count": 148,
   "id": "4f6d7987",
   "metadata": {},
   "outputs": [],
   "source": [
    "#print(MeanX_train)"
   ]
  },
  {
   "cell_type": "code",
   "execution_count": 149,
   "id": "a3b6a9f5",
   "metadata": {},
   "outputs": [],
   "source": [
    "#StdX_train = np.std(X_train[ : , 3 ])"
   ]
  },
  {
   "cell_type": "code",
   "execution_count": 150,
   "id": "ca9e698f",
   "metadata": {},
   "outputs": [],
   "source": [
    "#print(StdX_train)"
   ]
  },
  {
   "cell_type": "code",
   "execution_count": 151,
   "id": "f02c0868",
   "metadata": {},
   "outputs": [],
   "source": [
    "#X_trainFirstScalerValue = (X_train[ 0 , 3 ] - MeanX_train) / StdX_train"
   ]
  },
  {
   "cell_type": "code",
   "execution_count": 152,
   "id": "63290318",
   "metadata": {},
   "outputs": [],
   "source": [
    "#print(X_trainFirstScalerValue)"
   ]
  },
  {
   "cell_type": "code",
   "execution_count": 153,
   "id": "617789da",
   "metadata": {},
   "outputs": [],
   "source": [
    "X_test[ : , 3: ] = sc.transform(X_test[ : , 3: ])"
   ]
  },
  {
   "cell_type": "code",
   "execution_count": 154,
   "id": "7d783ecd",
   "metadata": {},
   "outputs": [
    {
     "name": "stdout",
     "output_type": "stream",
     "text": [
      "[[1.0 0.0 0.0 -1.4661817944830124 -0.9069571034860727]\n",
      " [0.0 1.0 0.0 -0.44973664397484414 0.2056403393225306]]\n"
     ]
    }
   ],
   "source": [
    "print(X_test)"
   ]
  },
  {
   "cell_type": "code",
   "execution_count": null,
   "id": "a572b1bb",
   "metadata": {},
   "outputs": [],
   "source": []
  }
 ],
 "metadata": {
  "kernelspec": {
   "display_name": "Python 3",
   "language": "python",
   "name": "python3"
  },
  "language_info": {
   "codemirror_mode": {
    "name": "ipython",
    "version": 3
   },
   "file_extension": ".py",
   "mimetype": "text/x-python",
   "name": "python",
   "nbconvert_exporter": "python",
   "pygments_lexer": "ipython3",
   "version": "3.8.8"
  }
 },
 "nbformat": 4,
 "nbformat_minor": 5
}
